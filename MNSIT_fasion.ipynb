{
  "nbformat": 4,
  "nbformat_minor": 0,
  "metadata": {
    "colab": {
      "provenance": []
    },
    "kernelspec": {
      "name": "python3",
      "display_name": "Python 3"
    },
    "language_info": {
      "name": "python"
    },
    "accelerator": "GPU",
    "gpuClass": "standard"
  },
  "cells": [
    {
      "cell_type": "code",
      "execution_count": null,
      "metadata": {
        "id": "m1yy4G5Y8WH2"
      },
      "outputs": [],
      "source": [
        "import numpy as np\n",
        "from tensorflow import keras\n",
        "from tensorflow.keras import layers\n",
        "import matplotlib.pyplot as plt"
      ]
    },
    {
      "cell_type": "code",
      "source": [
        "num_classes = 10\n",
        "input_shape = (28, 28, 1)\n",
        "\n",
        "(x_train, y_train), (x_test, y_test) = keras.datasets.fashion_mnist.load_data()"
      ],
      "metadata": {
        "id": "kUta4xYz8Xyi"
      },
      "execution_count": null,
      "outputs": []
    },
    {
      "cell_type": "code",
      "source": [
        "print(x_train.shape, x_test.shape)"
      ],
      "metadata": {
        "colab": {
          "base_uri": "https://localhost:8080/"
        },
        "id": "19n-tW-L8cNf",
        "outputId": "b4ddc763-4be5-4154-c60f-92715f74f242"
      },
      "execution_count": null,
      "outputs": [
        {
          "output_type": "stream",
          "name": "stdout",
          "text": [
            "(60000, 28, 28) (10000, 28, 28)\n"
          ]
        }
      ]
    },
    {
      "cell_type": "code",
      "source": [
        "test = x_train[1000]\n",
        "plt.imshow(test, cmap = 'gray')\n",
        "plt.show()"
      ],
      "metadata": {
        "colab": {
          "base_uri": "https://localhost:8080/",
          "height": 430
        },
        "id": "XPCQwzrk8f8y",
        "outputId": "8183fdcc-6249-4c66-8042-1c71991af8d6"
      },
      "execution_count": null,
      "outputs": [
        {
          "output_type": "display_data",
          "data": {
            "text/plain": [
              "<Figure size 640x480 with 1 Axes>"
            ],
            "image/png": "[encoded data removed]"
          },
          "metadata": {}
        }
      ]
    },
    {
      "cell_type": "code",
      "source": [
        "#Pre-process\n",
        "x_train = x_train.astype(\"float32\")/255\n",
        "x_test = x_test.astype(\"float32\")/255\n",
        "#Make sure input shape = 28*28*1\n",
        "x_train = np.expand_dims(x_train, -1)\n",
        "x_test = np.expand_dims(x_test, -1)\n"
      ],
      "metadata": {
        "id": "9e3Xh-vS8i-V"
      },
      "execution_count": null,
      "outputs": []
    },
    {
      "cell_type": "code",
      "source": [
        "print(\"x_train shape: \", x_train.shape)\n",
        "print(x_train.shape[0], \" - Train samples\")\n",
        "print(x_test.shape[0], \" - Test samples\")\n",
        ""
      ],
      "metadata": {
        "colab": {
          "base_uri": "https://localhost:8080/"
        },
        "id": "mZt4Cukb8n04",
        "outputId": "05a02e81-9082-45fe-aa9b-8e5b1bf48bb0"
      },
      "execution_count": null,
      "outputs": [
        {
          "output_type": "stream",
          "name": "stdout",
          "text": [
            "x_train shape:  (60000, 28, 28, 1)\n",
            "60000  - Train samples\n",
            "10000  - Test samples\n"
          ]
        }
      ]
    },
    {
      "cell_type": "code",
      "source": [
        "y_train = keras.utils.to_categorical(y_train, num_classes)\n",
        "y_test = keras.utils.to_categorical(y_test, num_classes)\n",
        ""
      ],
      "metadata": {
        "id": "fCJyBckz8r8H"
      },
      "execution_count": null,
      "outputs": []
    },
    {
      "cell_type": "code",
      "source": [
        "y_train[0]\n"
      ],
      "metadata": {
        "colab": {
          "base_uri": "https://localhost:8080/"
        },
        "id": "wJkZYHli8vML",
        "outputId": "78eca06e-1ccb-44f9-b325-1e0ba80ee25e"
      },
      "execution_count": null,
      "outputs": [
        {
          "output_type": "execute_result",
          "data": {
            "text/plain": [
              "array([0., 0., 0., 0., 0., 0., 0., 0., 0., 1.], dtype=float32)"
            ]
          },
          "metadata": {},
          "execution_count": 75
        }
      ]
    },
    {
      "cell_type": "code",
      "source": [
        "model = keras.Sequential(\n",
        "    [\n",
        "     keras.Input(shape = input_shape),\n",
        "     layers.Conv2D(32, kernel_size=(3,3), activation = \"relu\"),\n",
        "     layers.MaxPooling2D(pool_size = (2, 2)),\n",
        "     layers.Conv2D(64, kernel_size=(3,3), activation = \"relu\"),\n",
        "     layers.MaxPooling2D(pool_size = (2, 2)),\n",
        "     layers.Flatten(),\n",
        "     layers.Dropout(0.5),\n",
        "     layers.Dense(num_classes, activation=\"softmax\")\n",
        "    ]\n",
        ")"
      ],
      "metadata": {
        "id": "G7Zqj_R18yvK"
      },
      "execution_count": null,
      "outputs": []
    },
    {
      "cell_type": "code",
      "source": [
        "model.summary()"
      ],
      "metadata": {
        "colab": {
          "base_uri": "https://localhost:8080/"
        },
        "id": "_azi0YNl81Mf",
        "outputId": "ad315680-e6ac-4f5f-8c06-9d57fab563c5"
      },
      "execution_count": null,
      "outputs": [
        {
          "output_type": "stream",
          "name": "stdout",
          "text": [
            "Model: \"sequential_4\"\n",
            "_________________________________________________________________\n",
            " Layer (type)                Output Shape              Param #   \n",
            "=================================================================\n",
            " conv2d_8 (Conv2D)           (None, 26, 26, 32)        320       \n",
            "                                                                 \n",
            " max_pooling2d_8 (MaxPooling  (None, 13, 13, 32)       0         \n",
            " 2D)                                                             \n",
            "                                                                 \n",
            " conv2d_9 (Conv2D)           (None, 11, 11, 64)        18496     \n",
            "                                                                 \n",
            " max_pooling2d_9 (MaxPooling  (None, 5, 5, 64)         0         \n",
            " 2D)                                                             \n",
            "                                                                 \n",
            " flatten_4 (Flatten)         (None, 1600)              0         \n",
            "                                                                 \n",
            " dropout_4 (Dropout)         (None, 1600)              0         \n",
            "                                                                 \n",
            " dense_4 (Dense)             (None, 10)                16010     \n",
            "                                                                 \n",
            "=================================================================\n",
            "Total params: 34,826\n",
            "Trainable params: 34,826\n",
            "Non-trainable params: 0\n",
            "_________________________________________________________________\n"
          ]
        }
      ]
    },
    {
      "cell_type": "code",
      "source": [
        "batch_size = 128\n",
        "epochs = 20"
      ],
      "metadata": {
        "id": "mYPume3j86jY"
      },
      "execution_count": null,
      "outputs": []
    },
    {
      "cell_type": "code",
      "source": [
        "model.compile(loss=\"categorical_crossentropy\", optimizer=\"adam\", metrics=[\"accuracy\"])"
      ],
      "metadata": {
        "id": "QoJhleMp89x4"
      },
      "execution_count": null,
      "outputs": []
    },
    {
      "cell_type": "code",
      "source": [
        "model.fit(x_train, y_train, batch_size=batch_size, epochs = epochs, validation_split=0.1)"
      ],
      "metadata": {
        "colab": {
          "base_uri": "https://localhost:8080/"
        },
        "id": "eIE06Tmr9Am4",
        "outputId": "6273a215-6327-456e-bcc7-07200989feb8"
      },
      "execution_count": null,
      "outputs": [
        {
          "output_type": "stream",
          "name": "stdout",
          "text": [
            "Epoch 1/20\n",
            "422/422 [==============================] - 3s 5ms/step - loss: 0.7012 - accuracy: 0.7454 - val_loss: 0.4577 - val_accuracy: 0.8350\n",
            "Epoch 2/20\n",
            "422/422 [==============================] - 2s 4ms/step - loss: 0.4585 - accuracy: 0.8349 - val_loss: 0.3924 - val_accuracy: 0.8640\n",
            "Epoch 3/20\n",
            "422/422 [==============================] - 2s 4ms/step - loss: 0.4048 - accuracy: 0.8553 - val_loss: 0.3623 - val_accuracy: 0.8672\n",
            "Epoch 4/20\n",
            "422/422 [==============================] - 2s 5ms/step - loss: 0.3752 - accuracy: 0.8661 - val_loss: 0.3394 - val_accuracy: 0.8790\n",
            "Epoch 5/20\n",
            "422/422 [==============================] - 2s 5ms/step - loss: 0.3566 - accuracy: 0.8721 - val_loss: 0.3149 - val_accuracy: 0.8872\n",
            "Epoch 6/20\n",
            "422/422 [==============================] - 2s 5ms/step - loss: 0.3386 - accuracy: 0.8797 - val_loss: 0.3095 - val_accuracy: 0.8858\n",
            "Epoch 7/20\n",
            "422/422 [==============================] - 2s 5ms/step - loss: 0.3228 - accuracy: 0.8836 - val_loss: 0.2997 - val_accuracy: 0.8923\n",
            "Epoch 8/20\n",
            "422/422 [==============================] - 2s 4ms/step - loss: 0.3115 - accuracy: 0.8882 - val_loss: 0.2865 - val_accuracy: 0.8957\n",
            "Epoch 9/20\n",
            "422/422 [==============================] - 2s 4ms/step - loss: 0.3045 - accuracy: 0.8907 - val_loss: 0.2734 - val_accuracy: 0.8987\n",
            "Epoch 10/20\n",
            "422/422 [==============================] - 2s 4ms/step - loss: 0.2991 - accuracy: 0.8921 - val_loss: 0.2808 - val_accuracy: 0.8965\n",
            "Epoch 11/20\n",
            "422/422 [==============================] - 2s 6ms/step - loss: 0.2917 - accuracy: 0.8938 - val_loss: 0.2825 - val_accuracy: 0.8973\n",
            "Epoch 12/20\n",
            "422/422 [==============================] - 2s 5ms/step - loss: 0.2824 - accuracy: 0.8994 - val_loss: 0.2621 - val_accuracy: 0.9032\n",
            "Epoch 13/20\n",
            "422/422 [==============================] - 2s 4ms/step - loss: 0.2754 - accuracy: 0.8991 - val_loss: 0.2688 - val_accuracy: 0.8975\n",
            "Epoch 14/20\n",
            "422/422 [==============================] - 2s 4ms/step - loss: 0.2703 - accuracy: 0.9017 - val_loss: 0.2564 - val_accuracy: 0.9052\n",
            "Epoch 15/20\n",
            "422/422 [==============================] - 2s 4ms/step - loss: 0.2687 - accuracy: 0.9019 - val_loss: 0.2604 - val_accuracy: 0.9022\n",
            "Epoch 16/20\n",
            "422/422 [==============================] - 2s 4ms/step - loss: 0.2606 - accuracy: 0.9052 - val_loss: 0.2560 - val_accuracy: 0.9063\n",
            "Epoch 17/20\n",
            "422/422 [==============================] - 2s 5ms/step - loss: 0.2590 - accuracy: 0.9066 - val_loss: 0.2498 - val_accuracy: 0.9080\n",
            "Epoch 18/20\n",
            "422/422 [==============================] - 2s 5ms/step - loss: 0.2554 - accuracy: 0.9061 - val_loss: 0.2447 - val_accuracy: 0.9113\n",
            "Epoch 19/20\n",
            "422/422 [==============================] - 2s 4ms/step - loss: 0.2517 - accuracy: 0.9076 - val_loss: 0.2497 - val_accuracy: 0.9092\n",
            "Epoch 20/20\n",
            "422/422 [==============================] - 2s 4ms/step - loss: 0.2511 - accuracy: 0.9094 - val_loss: 0.2393 - val_accuracy: 0.9115\n"
          ]
        },
        {
          "output_type": "execute_result",
          "data": {
            "text/plain": [
              "<keras.callbacks.History at 0x7f4425874e20>"
            ]
          },
          "metadata": {},
          "execution_count": 80
        }
      ]
    },
    {
      "cell_type": "code",
      "source": [],
      "metadata": {
        "id": "tn4oT-w_9DXi"
      },
      "execution_count": null,
      "outputs": []
    },
    {
      "cell_type": "code",
      "source": [
        "score = model.evaluate(x_test, y_test, verbose=0)\n",
        "print(\"Test loss: \", score[0])\n",
        "print(\"Test accuracy: \", score[1])"
      ],
      "metadata": {
        "colab": {
          "base_uri": "https://localhost:8080/"
        },
        "id": "y1j38fVX9NWJ",
        "outputId": "b49692a5-045b-41bc-bd38-a57e613ce3aa"
      },
      "execution_count": null,
      "outputs": [
        {
          "output_type": "stream",
          "name": "stdout",
          "text": [
            "Test loss:  0.0280142892152071\n",
            "Test accuracy:  0.9907000064849854\n"
          ]
        }
      ]
    },
    {
      "cell_type": "code",
      "source": [],
      "metadata": {
        "id": "lV-EvDOV-fhi"
      },
      "execution_count": null,
      "outputs": []
    }
  ]
}